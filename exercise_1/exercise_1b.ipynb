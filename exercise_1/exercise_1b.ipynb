{
 "cells": [
  {
   "cell_type": "markdown",
   "metadata": {},
   "source": [
    "# Exercise Sheet 1b\n",
    "\n",
    "\n",
    "\n",
    "### Understand Computation Graphs and Backpropagation\n",
    "\n",
    "- Compute the gradients along the given network manually.\n",
    "- Compare your results to the gradients computed by pytorch's autograd"
   ]
  },
  {
   "cell_type": "code",
   "execution_count": 1,
   "metadata": {},
   "outputs": [],
   "source": [
    "import numpy as np\n",
    "import torch\n",
    "import torch.nn.functional as F"
   ]
  },
  {
   "cell_type": "code",
   "execution_count": 2,
   "metadata": {},
   "outputs": [],
   "source": [
    "simple_net = torch.nn.Sequential(\n",
    "    torch.nn.Linear(4, 2, bias=False),\n",
    "    torch.nn.ReLU(),\n",
    "    torch.nn.Linear(2, 1, bias=False),\n",
    "    torch.nn.Sigmoid()\n",
    ")\n",
    "\n",
    "simple_net.load_state_dict(torch.load('initial_model.pth'))\n",
    "\n",
    "\n",
    "criterion = torch.nn.BCELoss()"
   ]
  },
  {
   "cell_type": "code",
   "execution_count": 3,
   "metadata": {},
   "outputs": [],
   "source": [
    "in_features = torch.Tensor([[-2, -0.3, 1.7, 0.2]])\n",
    "target = torch.Tensor([[1.]])\n",
    "\n",
    "prediction = simple_net(in_features)\n",
    "\n",
    "loss = criterion(prediction, target) \n",
    "loss.backward()"
   ]
  },
  {
   "cell_type": "code",
   "execution_count": 4,
   "metadata": {
    "scrolled": true
   },
   "outputs": [
    {
     "data": {
      "text/plain": [
       "tensor([[-0.5130, -0.0770,  0.4361,  0.0513],\n",
       "        [ 0.4947,  0.0742, -0.4205, -0.0495]])"
      ]
     },
     "execution_count": 4,
     "metadata": {},
     "output_type": "execute_result"
    }
   ],
   "source": [
    "simple_net[0].weight.grad"
   ]
  },
  {
   "cell_type": "code",
   "execution_count": 5,
   "metadata": {
    "scrolled": true
   },
   "outputs": [
    {
     "data": {
      "text/plain": [
       "tensor([[-0.0709, -0.2826]])"
      ]
     },
     "execution_count": 5,
     "metadata": {},
     "output_type": "execute_result"
    }
   ],
   "source": [
    "simple_net[2].weight.grad"
   ]
  },
  {
   "cell_type": "code",
   "execution_count": null,
   "metadata": {},
   "outputs": [],
   "source": []
  },
  {
   "cell_type": "markdown",
   "metadata": {},
   "source": [
    "# Forward Pass"
   ]
  },
  {
   "cell_type": "code",
   "execution_count": 6,
   "metadata": {},
   "outputs": [
    {
     "name": "stdout",
     "output_type": "stream",
     "text": [
      "W1 Matrix :Parameter containing:\n",
      "tensor([[ 0.1433, -0.2529,  0.2200,  0.0073],\n",
      "        [-0.3766,  0.0989, -0.0612,  0.1814]], requires_grad=True)\n",
      "\n",
      "W2 Matrix :Parameter containing:\n",
      "tensor([[-0.5954,  0.5741]], requires_grad=True)\n",
      "\n"
     ]
    }
   ],
   "source": [
    "\n",
    "#Pretrained weights of the model layer 1 and layer 2\n",
    "w1= simple_net[0].weight\n",
    "w2=simple_net[2].weight\n",
    "print (\"W1 Matrix :{}\\n\".format(w1))\n",
    "print (\"W2 Matrix :{}\\n\".format(w2))\n",
    "\n"
   ]
  },
  {
   "cell_type": "code",
   "execution_count": 7,
   "metadata": {},
   "outputs": [
    {
     "name": "stdout",
     "output_type": "stream",
     "text": [
      "Output of first hidden layer: \n",
      "[[0.16463013]\n",
      " [0.6558626 ]]\n",
      "\n"
     ]
    }
   ],
   "source": [
    "#First operation  = wX (input multiplied by the weight matrix)\n",
    "first_out = np.dot(w1.detach().cpu(), in_features.T)\n",
    "print (\"Output of first hidden layer: \\n{}\\n\".format(first_out))"
   ]
  },
  {
   "cell_type": "code",
   "execution_count": 8,
   "metadata": {},
   "outputs": [
    {
     "name": "stdout",
     "output_type": "stream",
     "text": [
      "Output after RELU: \n",
      " tensor([[0.1646],\n",
      "        [0.6559]])\n",
      "\n"
     ]
    }
   ],
   "source": [
    "#Relu applied on first layer output\n",
    "relu_out_first = relu = F.relu(torch.tensor(first_out))\n",
    "print (\"Output after RELU: \\n {}\\n\".format(relu_out_first))"
   ]
  },
  {
   "cell_type": "code",
   "execution_count": 9,
   "metadata": {},
   "outputs": [
    {
     "name": "stdout",
     "output_type": "stream",
     "text": [
      "Output of output layer: \n",
      "[[0.27853638]]\n",
      "\n"
     ]
    }
   ],
   "source": [
    "# Output of first layer multiplied by weight matrix of second layer\n",
    "second_out = np.dot(w2.detach().cpu(), relu_out_first)\n",
    "print (\"Output of output layer: \\n{}\\n\".format(second_out))"
   ]
  },
  {
   "cell_type": "code",
   "execution_count": 10,
   "metadata": {},
   "outputs": [
    {
     "name": "stdout",
     "output_type": "stream",
     "text": [
      "Output after Sigmoid: \n",
      " [[0.56918734]]\n",
      "\n"
     ]
    },
    {
     "name": "stderr",
     "output_type": "stream",
     "text": [
      "/Users/omer/opt/miniconda3/envs/noise/lib/python3.7/site-packages/torch/nn/functional.py:1639: UserWarning: nn.functional.sigmoid is deprecated. Use torch.sigmoid instead.\n",
      "  warnings.warn(\"nn.functional.sigmoid is deprecated. Use torch.sigmoid instead.\")\n"
     ]
    }
   ],
   "source": [
    "#Relu applied on first layer output\n",
    "sigmoid_out = F.sigmoid(torch.tensor(second_out)).detach().numpy()\n",
    "print (\"Output after Sigmoid: \\n {}\\n\".format(sigmoid_out))"
   ]
  },
  {
   "cell_type": "code",
   "execution_count": 11,
   "metadata": {},
   "outputs": [
    {
     "name": "stdout",
     "output_type": "stream",
     "text": [
      "[[0.56354564]]\n"
     ]
    }
   ],
   "source": [
    "forward_loss =  - np.log(sigmoid_out) # -Y(log(y)) for case where y = 1 in binary cross entropy\n",
    "print(forward_loss)"
   ]
  },
  {
   "cell_type": "markdown",
   "metadata": {},
   "source": [
    "# BACK PROPAGATION\n",
    "\n",
    "#### derivative of BCE when y = 1:   $  -1/x $\n",
    "#### derivative of sigmoid:   $ e^-x / (1 - e^-x)^-2 $\n",
    "#### derivative of ReLU:         1 when x>0 else 0  \n",
    "#### derivative of (wX) w.r.t `X` is `w` and w.r.t `w` is `X`"
   ]
  },
  {
   "cell_type": "code",
   "execution_count": 12,
   "metadata": {},
   "outputs": [
    {
     "name": "stdout",
     "output_type": "stream",
     "text": [
      "Gradient of loss W.R.T output of sigmoid : -1.7568907737731934\n"
     ]
    }
   ],
   "source": [
    "# derivative of loss w.r.t loss is 1\n",
    "grad_loss = 1\n",
    "\n",
    "#derivative of loss w.r.t sigmoid_out is `derivative of loss w.r.t loss * derivative of loss w.r.t sigmoid_out` chain rule\n",
    "grad_loss_wrt_sig = -(1/sigmoid_out) * grad_loss\n",
    "print (\"Gradient of loss W.R.T output of sigmoid :\",grad_loss_wrt_sig.item()) "
   ]
  },
  {
   "cell_type": "code",
   "execution_count": 13,
   "metadata": {},
   "outputs": [
    {
     "name": "stdout",
     "output_type": "stream",
     "text": [
      "Gradient of sigmoid activation w.r.t input : [[-0.43081263]]\n"
     ]
    }
   ],
   "source": [
    "# Derivative of sigmoid W.R.T input\n",
    "grad_sigmoid_wrt_w2_2_relu = (np.exp(-second_out) / (1 + np.exp(-second_out))**(2)) * grad_loss_wrt_sig\n",
    "print (\"Gradient of sigmoid activation w.r.t input :\", grad_sigmoid_wrt_w2_2_relu)"
   ]
  },
  {
   "cell_type": "markdown",
   "metadata": {},
   "source": [
    "### Gradients of second layer w2"
   ]
  },
  {
   "cell_type": "code",
   "execution_count": 14,
   "metadata": {},
   "outputs": [
    {
     "name": "stdout",
     "output_type": "stream",
     "text": [
      "Gradiends of second layer weights: tensor([-0.0709, -0.2826])\n",
      "Pytorch gradients : tensor([[-0.0709, -0.2826]])\n"
     ]
    }
   ],
   "source": [
    "# Derivative of wX w.r.t weights. here w is weights of second layer and X is output of ReLU\n",
    "grad_wX_wrt_w_2 =  relu_out_first * grad_sigmoid_wrt_w2_2_relu\n",
    "print (\"Gradiends of second layer weights:\", grad_wX_wrt_w_2.reshape(-1))\n",
    "print (\"Pytorch gradients :\", simple_net[2].weight.grad)"
   ]
  },
  {
   "cell_type": "code",
   "execution_count": 15,
   "metadata": {},
   "outputs": [
    {
     "name": "stdout",
     "output_type": "stream",
     "text": [
      "Gradiends of wX w.r.t X2: [ 0.2565156  -0.24734934]\n"
     ]
    }
   ],
   "source": [
    "# Derivative of wX w.r.t `X`. here w is weights of second layer and X is output of ReLU\n",
    "grad_wX_wrt_X2 =  w2.detach().numpy() * grad_sigmoid_wrt_w2_2_relu\n",
    "print (\"Gradiends of wX w.r.t X2:\", grad_wX_wrt_X2.reshape(-1))"
   ]
  },
  {
   "cell_type": "code",
   "execution_count": 16,
   "metadata": {},
   "outputs": [],
   "source": [
    "# Gradient of Relu is \n",
    "# 1 for x > 0; \n",
    "# 0 for x <= 0\n",
    "grad_relu = 1 * grad_wX_wrt_X2 # since input to relu is > 0 \n"
   ]
  },
  {
   "cell_type": "markdown",
   "metadata": {},
   "source": [
    "### Gradients First layer W1"
   ]
  },
  {
   "cell_type": "code",
   "execution_count": 17,
   "metadata": {},
   "outputs": [
    {
     "name": "stdout",
     "output_type": "stream",
     "text": [
      "Manually computed gradients W1: \n",
      " tensor([[-0.5130, -0.0770,  0.4361,  0.0513],\n",
      "        [ 0.4947,  0.0742, -0.4205, -0.0495]])\n",
      "\n",
      "Pytorch gradients W1: \n",
      " tensor([[-0.5130, -0.0770,  0.4361,  0.0513],\n",
      "        [ 0.4947,  0.0742, -0.4205, -0.0495]])\n"
     ]
    }
   ],
   "source": [
    "grad_w1 = in_features * grad_relu.reshape(2,1)\n",
    "print (\"Manually computed gradients W1: \\n\", grad_w1)\n",
    "print (\"\\nPytorch gradients W1: \\n\", simple_net[0].weight.grad)"
   ]
  },
  {
   "cell_type": "markdown",
   "metadata": {},
   "source": [
    "# Conclusion\n",
    "##### Gradients computed from pytorch backprop and manual backprop are the same"
   ]
  },
  {
   "cell_type": "code",
   "execution_count": null,
   "metadata": {},
   "outputs": [],
   "source": []
  }
 ],
 "metadata": {
  "kernelspec": {
   "display_name": "Python 3",
   "language": "python",
   "name": "python3"
  },
  "language_info": {
   "codemirror_mode": {
    "name": "ipython",
    "version": 3
   },
   "file_extension": ".py",
   "mimetype": "text/x-python",
   "name": "python",
   "nbconvert_exporter": "python",
   "pygments_lexer": "ipython3",
   "version": "3.7.9"
  }
 },
 "nbformat": 4,
 "nbformat_minor": 2
}
